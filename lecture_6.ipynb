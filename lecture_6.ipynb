{
 "cells": [
  {
   "cell_type": "markdown",
   "metadata": {},
   "source": [
    "### 6장 함수"
   ]
  },
  {
   "cell_type": "code",
   "execution_count": 1,
   "metadata": {},
   "outputs": [
    {
     "name": "stdout",
     "output_type": "stream",
     "text": [
      "3\n"
     ]
    }
   ],
   "source": [
    "def sum(a,b):\n",
    "    c=a+b\n",
    "    return c\n",
    "\n",
    "print(sum(1,2))"
   ]
  },
  {
   "cell_type": "code",
   "execution_count": 2,
   "metadata": {},
   "outputs": [
    {
     "name": "stdout",
     "output_type": "stream",
     "text": [
      "==================================\n",
      "경기도 파주시 0000길 000\n",
      "우편번호: 01234\n",
      "cary grand 귀하\n",
      "===================================\n"
     ]
    }
   ],
   "source": [
    "def print_addr():\n",
    "    print('==================================')\n",
    "    print(\"경기도 파주시 0000길 000\")\n",
    "    print(\"우편번호: 01234\")\n",
    "    print(\"cary grand 귀하\")\n",
    "    print(\"===================================\")\n",
    "\n",
    "print_addr()"
   ]
  },
  {
   "cell_type": "code",
   "execution_count": 3,
   "metadata": {},
   "outputs": [
    {
     "name": "stdout",
     "output_type": "stream",
     "text": [
      "==================================\n",
      "경기도 파주시 0000길 000\n",
      "우편번호: 01234\n",
      "이용재 귀하\n",
      "===================================\n"
     ]
    }
   ],
   "source": [
    "def print_addr(name):\n",
    "    print('==================================')\n",
    "    print(\"경기도 파주시 0000길 000\")\n",
    "    print(\"우편번호: 01234\")\n",
    "    print( name, \"귀하\")\n",
    "    print(\"===================================\")\n",
    "\n",
    "print_addr(\"이용재\")"
   ]
  },
  {
   "cell_type": "code",
   "execution_count": 9,
   "metadata": {},
   "outputs": [
    {
     "name": "stdout",
     "output_type": "stream",
     "text": [
      "32\n"
     ]
    }
   ],
   "source": [
    "import random\n",
    "\n",
    "def sum_rand():\n",
    "    a = random.randint(1,10)\n",
    "    b = random.randint(10,30)\n",
    "    return a+b\n",
    "\n",
    "print(sum_rand())"
   ]
  },
  {
   "cell_type": "code",
   "execution_count": 10,
   "metadata": {},
   "outputs": [
    {
     "name": "stdout",
     "output_type": "stream",
     "text": [
      "78.5\n"
     ]
    }
   ],
   "source": [
    "def cal_area(radius):\n",
    "    area = 3.14 * radius ** 2\n",
    "    return area\n",
    "\n",
    "s = cal_area(5.0)\n",
    "print(s)"
   ]
  },
  {
   "cell_type": "code",
   "execution_count": 12,
   "metadata": {},
   "outputs": [
    {
     "name": "stdout",
     "output_type": "stream",
     "text": [
      "55 1275\n"
     ]
    }
   ],
   "source": [
    "def adder(start, end):\n",
    "    s = 0\n",
    "    for i in range(start, end +1):\n",
    "        s = s+i\n",
    "    return s\n",
    "\n",
    "x = adder(1,10)\n",
    "y = adder(1,50) # 피이썬은 위치 인자를 사용하기 때문에 인자의 순서에 유의해야 한다.\n",
    "print(x,y)"
   ]
  },
  {
   "cell_type": "code",
   "execution_count": 14,
   "metadata": {},
   "outputs": [
    {
     "name": "stdout",
     "output_type": "stream",
     "text": [
      "<class 'tuple'>\n",
      "<class 'tuple'>\n",
      "6 55\n"
     ]
    }
   ],
   "source": [
    "def add_all(*args): # args는 튜플 자료형 여러개를 입력받아 더한다.\n",
    "    sum = 0\n",
    "    for i in args:\n",
    "        sum = sum + i\n",
    "    return sum\n",
    "\n",
    "c = add_all(1,2,3)\n",
    "d = add_all(1,2,3,4,5,6,7,8,9,10)\n",
    "print(c, d)"
   ]
  },
  {
   "cell_type": "code",
   "execution_count": 20,
   "metadata": {},
   "outputs": [
    {
     "name": "stdout",
     "output_type": "stream",
     "text": [
      "(50, -10, 600, 0.6666666666666666)\n",
      "<class 'tuple'>\n"
     ]
    }
   ],
   "source": [
    "def arith(x,y):\n",
    "    a = x+y\n",
    "    b = x-y\n",
    "    c = x*y\n",
    "    d = x/y\n",
    "    return a,b,c,d\n",
    "\n",
    "result = arith(20,30)\n",
    "print(result)\n",
    "print(type(result))"
   ]
  },
  {
   "cell_type": "code",
   "execution_count": 21,
   "metadata": {},
   "outputs": [
    {
     "name": "stdout",
     "output_type": "stream",
     "text": [
      "50 -10 600 0.6666666666666666\n",
      "<class 'int'> <class 'int'> <class 'int'> <class 'float'>\n"
     ]
    }
   ],
   "source": [
    "def arith(x,y):\n",
    "    a = x+y\n",
    "    b = x-y\n",
    "    c = x*y\n",
    "    d = x/y\n",
    "    return a,b,c,d\n",
    "    \"\"\"\n",
    "    %주의%\n",
    "    return a\n",
    "    return b              b,c,d 수행 안함\n",
    "    return c  \n",
    "    return d    \n",
    "    \"\"\"\n",
    "    \n",
    "    \n",
    "r1,r2,r3,r4 = arith(20,30) #개별자료형으로 반환 받고 싶으면 반환값을 받을\n",
    "print(r1,r2,r3,r4)         #변수를 정확히 지정\n",
    "print(type(r1),type(r2),type(r3),type(r4))"
   ]
  },
  {
   "cell_type": "code",
   "execution_count": 22,
   "metadata": {},
   "outputs": [
    {
     "name": "stdout",
     "output_type": "stream",
     "text": [
      "1\n"
     ]
    }
   ],
   "source": [
    "a = 1\n",
    "def func(a):\n",
    "    a=a+10 # 함수 내에서 사용하는 매개변수는 함수 내에서만 유효한 지역변수\n",
    "func(a)\n",
    "print(a)"
   ]
  },
  {
   "cell_type": "code",
   "execution_count": 24,
   "metadata": {},
   "outputs": [
    {
     "name": "stdout",
     "output_type": "stream",
     "text": [
      "11\n"
     ]
    }
   ],
   "source": [
    "a = 1\n",
    "def func(a):\n",
    "    a = a+10\n",
    "    return a\n",
    "a = func(a)\n",
    "print(a)"
   ]
  },
  {
   "cell_type": "code",
   "execution_count": 27,
   "metadata": {},
   "outputs": [
    {
     "name": "stdout",
     "output_type": "stream",
     "text": [
      "2815832910128\n",
      "2815832910128\n",
      "11\n"
     ]
    }
   ],
   "source": [
    "a = 1\n",
    "print(id(a))\n",
    "def func():\n",
    "    global a\n",
    "    print(id(a))\n",
    "    a += 10\n",
    "\n",
    "func()\n",
    "print(a)"
   ]
  },
  {
   "cell_type": "code",
   "execution_count": 28,
   "metadata": {},
   "outputs": [
    {
     "name": "stdout",
     "output_type": "stream",
     "text": [
      "Number of patties: 1, pickle: False, onion: True\n"
     ]
    }
   ],
   "source": [
    "def order(num, pickle, onion):\n",
    "    print('Number of patties: {}, pickle: {}, onion: {}'.format(num, pickle, onion))\n",
    "\n",
    "order(1, False, True) # 정확히 인자 3개를 전달해야 한다."
   ]
  },
  {
   "cell_type": "code",
   "execution_count": 30,
   "metadata": {},
   "outputs": [
    {
     "name": "stdout",
     "output_type": "stream",
     "text": [
      "Number of patties: 3, pickle: True, onion: False\n"
     ]
    }
   ],
   "source": [
    "def order(num, pickle = True, onion = False):\n",
    "    print('Number of patties: {}, pickle: {}, onion: {}'.format(num, pickle, onion))\n",
    "\n",
    "order(3) # 디폴트 값을 정해줄 수 있다."
   ]
  },
  {
   "cell_type": "code",
   "execution_count": 31,
   "metadata": {},
   "outputs": [
    {
     "name": "stdout",
     "output_type": "stream",
     "text": [
      "1024\n",
      "100\n"
     ]
    }
   ],
   "source": [
    "def power(base, exponent):\n",
    "    return base**exponent\n",
    "print(power(2,10))\n",
    "print(power(10,2))"
   ]
  },
  {
   "cell_type": "code",
   "execution_count": 32,
   "metadata": {},
   "outputs": [
    {
     "name": "stdout",
     "output_type": "stream",
     "text": [
      "1024 1024 1024\n"
     ]
    }
   ],
   "source": [
    "a = power(2, 10)\n",
    "b = power(exponent=10, base=2)\n",
    "c = power(base=2, exponent=10)\n",
    "print(a,b,c)"
   ]
  },
  {
   "cell_type": "code",
   "execution_count": 33,
   "metadata": {},
   "outputs": [
    {
     "data": {
      "text/plain": [
       "[<matplotlib.lines.Line2D at 0x28fa561b940>]"
      ]
     },
     "execution_count": 33,
     "metadata": {},
     "output_type": "execute_result"
    },
    {
     "data": {
      "image/png": "[encoded data removed]",
      "text/plain": [
       "<Figure size 432x288 with 1 Axes>"
      ]
     },
     "metadata": {
      "needs_background": "light"
     },
     "output_type": "display_data"
    }
   ],
   "source": [
    "import matplotlib.pyplot as plt\n",
    "plt.plot(x, y, color ='green', marker = 'o', linestyle = 'solid')"
   ]
  },
  {
   "cell_type": "code",
   "execution_count": 37,
   "metadata": {},
   "outputs": [],
   "source": [
    "import turtle as t\n",
    "def draw_histogram(a_list):\n",
    "    w = 40 # histogram width\n",
    "    m = len(a_list) # number of list members\n",
    "    t.color(\"blue\")\n",
    "    t.fillcolor(\"red\")\n",
    "    for i in range(0, m):\n",
    "        t.begin_fill()\n",
    "        t.left(90)\n",
    "        t.forward(a_list[i])\n",
    "        t.write(str(a_list[i]))  # text value\n",
    "        t.right(90)\n",
    "        t.forward(w)\n",
    "        t.right(90)\n",
    "        t.forward(a_list[i])\n",
    "        t.left(90)\n",
    "        t.end_fill()\n",
    "    t.done()\n",
    "given_list = [120, 56, 309, 220, 156, 23, 98]\n",
    "draw_histogram(given_list)"
   ]
  },
  {
   "cell_type": "code",
   "execution_count": 38,
   "metadata": {},
   "outputs": [
    {
     "name": "stdout",
     "output_type": "stream",
     "text": [
      "10! = 3628800\n"
     ]
    }
   ],
   "source": [
    "def factorial(n):\n",
    "    if n <= 1:\n",
    "        return 1\n",
    "    else:\n",
    "        return n*factorial(n-1)\n",
    "\n",
    "res = factorial(10)\n",
    "print('10! =', res)"
   ]
  },
  {
   "cell_type": "code",
   "execution_count": 44,
   "metadata": {},
   "outputs": [
    {
     "name": "stdout",
     "output_type": "stream",
     "text": [
      "3\n"
     ]
    }
   ],
   "source": [
    "def fibonacci(n):\n",
    "    if n <1:\n",
    "        return 0\n",
    "    elif n<=3:\n",
    "        return 1\n",
    "    else:\n",
    "        return fibonacci(n-1) + fibonacci(n-2)\n",
    "\n",
    "res = fibonacci(5)\n",
    "print(res)"
   ]
  },
  {
   "cell_type": "code",
   "execution_count": 46,
   "metadata": {},
   "outputs": [
    {
     "name": "stdout",
     "output_type": "stream",
     "text": [
      "2022-09-23 16:55:17.348424\n"
     ]
    }
   ],
   "source": [
    "import datetime\n",
    "print(datetime.datetime.now())"
   ]
  },
  {
   "cell_type": "code",
   "execution_count": 47,
   "metadata": {},
   "outputs": [
    {
     "name": "stdout",
     "output_type": "stream",
     "text": [
      "2022-09-23 16:56:20.384707\n",
      "2022-09-23 16:56:20.384708\n",
      "<class 'datetime.datetime'>\n"
     ]
    }
   ],
   "source": [
    "import datetime\n",
    "print(datetime.datetime.now())\n",
    "date = datetime.datetime.today()\n",
    "print(date)\n",
    "print(type(date))"
   ]
  },
  {
   "cell_type": "code",
   "execution_count": 48,
   "metadata": {},
   "outputs": [
    {
     "data": {
      "text/plain": [
       "'\\nimport turtle as t\\n\\ndef draw_histogram(a_list):\\n    w = 40 # histogram width\\n    m = len(a_list) # number of list members\\n    t.color(\"blue\")\\n    t.fillcolor(\"red\")\\n    for i in range(0, m):\\n        t.begin_fill()\\n        t.left(90)\\n        t.forward(a_list[i])\\n        t.write(str(a_list[i]))  # text value\\n        t.right(90)\\n        t.forward(w)\\n        t.right(90)\\n        t.forward(a_list[i])\\n        t.left(90)\\n        t.end_fill()\\n    t.done()\\n    return\\ndef hello():\\n    print(\"This should not be printed.\")\\n    return 0\\n'"
      ]
     },
     "execution_count": 48,
     "metadata": {},
     "output_type": "execute_result"
    }
   ],
   "source": [
    "# my_histogram.py 로 저장하기\n",
    "\"\"\"\n",
    "import turtle as t\n",
    "\n",
    "def draw_histogram(a_list):\n",
    "    w = 40 # histogram width\n",
    "    m = len(a_list) # number of list members\n",
    "    t.color(\"blue\")\n",
    "    t.fillcolor(\"red\")\n",
    "    for i in range(0, m):\n",
    "        t.begin_fill()\n",
    "        t.left(90)\n",
    "        t.forward(a_list[i])\n",
    "        t.write(str(a_list[i]))  # text value\n",
    "        t.right(90)\n",
    "        t.forward(w)\n",
    "        t.right(90)\n",
    "        t.forward(a_list[i])\n",
    "        t.left(90)\n",
    "        t.end_fill()\n",
    "    t.done()\n",
    "    return\n",
    "def hello():\n",
    "    print(\"This should not be printed.\")\n",
    "    return 0\n",
    "\"\"\"\n"
   ]
  },
  {
   "cell_type": "code",
   "execution_count": 50,
   "metadata": {},
   "outputs": [
    {
     "name": "stdout",
     "output_type": "stream",
     "text": [
      "This should not be printed.\n"
     ]
    },
    {
     "data": {
      "text/plain": [
       "0"
      ]
     },
     "execution_count": 50,
     "metadata": {},
     "output_type": "execute_result"
    }
   ],
   "source": [
    "import lecture_6_my_histogram as his\n",
    "\n",
    "his.draw_histogram([200,100,-35,75,50])\n",
    "his.hello()"
   ]
  },
  {
   "cell_type": "code",
   "execution_count": 52,
   "metadata": {},
   "outputs": [],
   "source": [
    "from lecture_6_my_histogram import draw_histogram as draw\n",
    "\n",
    "draw([200,100,-35,75,50])"
   ]
  },
  {
   "cell_type": "code",
   "execution_count": 54,
   "metadata": {},
   "outputs": [
    {
     "name": "stdout",
     "output_type": "stream",
     "text": [
      "This should not be printed.\n"
     ]
    }
   ],
   "source": [
    "from lecture_6_my_histogram import * # 모듈에서 모든 함수 불러오기\n",
    "hello()\n",
    "draw_histogram([200,100,-35,75,50])"
   ]
  }
 ],
 "metadata": {
  "kernelspec": {
   "display_name": "Python 3.9.12 ('base')",
   "language": "python",
   "name": "python3"
  },
  "language_info": {
   "codemirror_mode": {
    "name": "ipython",
    "version": 3
   },
   "file_extension": ".py",
   "mimetype": "text/x-python",
   "name": "python",
   "nbconvert_exporter": "python",
   "pygments_lexer": "ipython3",
   "version": "3.9.12"
  },
  "orig_nbformat": 4,
  "vscode": {
   "interpreter": {
    "hash": "336a7167fa095a0568fd0f482e8c39d2425961124f25fc4caa4d3cae90c24243"
   }
  }
 },
 "nbformat": 4,
 "nbformat_minor": 2
}
