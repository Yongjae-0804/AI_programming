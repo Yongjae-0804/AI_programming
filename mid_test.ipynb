{
 "cells": [
  {
   "cell_type": "code",
   "execution_count": null,
   "metadata": {},
   "outputs": [],
   "source": [
    "import pandas as pd\n",
    "import matplotlib.pyplot as plt\n",
    "import numpy as np\n",
    "\n",
    "df = pd.read_csv('./data/test2.csv')\n",
    "\n",
    "df.head()"
   ]
  },
  {
   "cell_type": "code",
   "execution_count": null,
   "metadata": {},
   "outputs": [],
   "source": [
    "df2 = pd.DataFrame({'DownLink[kbyte/min]': df['DownLink']*0.06, 'UpLink[kbyte/min]': df['UpLink']*0.06}) # (byte/sec)*0.06 = (kbyte/min)\n",
    "df2.head()"
   ]
  },
  {
   "cell_type": "code",
   "execution_count": null,
   "metadata": {},
   "outputs": [],
   "source": [
    "# df_int = pd.DataFrame({'DownLink[kbyte/min]': int(df2['DownLink[kbyte/min]']), 'UpLink[kbyte/min]': int(df2['UpLink[kbyte/min]'])})\n",
    "# df_int.head()\n",
    "type(df2['UpLink[kbyte/min]'][1])"
   ]
  },
  {
   "cell_type": "code",
   "execution_count": null,
   "metadata": {},
   "outputs": [],
   "source": [
    "df2.astype(int)"
   ]
  },
  {
   "cell_type": "code",
   "execution_count": null,
   "metadata": {},
   "outputs": [],
   "source": [
    "df2 = df2.astype(int)"
   ]
  },
  {
   "cell_type": "code",
   "execution_count": null,
   "metadata": {},
   "outputs": [],
   "source": [
    "df2[\"DownLink[kbyte/min]\"].head()"
   ]
  },
  {
   "cell_type": "code",
   "execution_count": null,
   "metadata": {},
   "outputs": [],
   "source": [
    "dflist = (df2['DownLink[kbyte/min]'] >= 15000)"
   ]
  },
  {
   "cell_type": "code",
   "execution_count": null,
   "metadata": {},
   "outputs": [],
   "source": [
    "dflist.head()"
   ]
  },
  {
   "cell_type": "code",
   "execution_count": null,
   "metadata": {},
   "outputs": [],
   "source": [
    "data_HL =[]\n",
    "for i in dflist:\n",
    "    if i:\n",
    "        data_HL.append('High')\n",
    "    else:\n",
    "        data_HL.append('Low')\n",
    "data_HL"
   ]
  },
  {
   "cell_type": "code",
   "execution_count": null,
   "metadata": {},
   "outputs": [],
   "source": [
    "df2['status'] = data_HL\n",
    "df2.head()"
   ]
  },
  {
   "cell_type": "code",
   "execution_count": null,
   "metadata": {},
   "outputs": [],
   "source": [
    "x = df2['UpLink[kbyte/min]']\n",
    "y = df2['DownLink[kbyte/min]']\n",
    "\n",
    "plt.figure(figsize= (30,10))\n",
    "plt.title('Data Analysis')\n",
    "plt.legend()\n",
    "plt.xlabel(\"high\")\n",
    "plt.ylabel(\"low\")\n",
    "plt.scatter(x,y)\n",
    "\n",
    "#plt.savefig('scatter{}.png'.format(a))\n",
    "\n",
    "plt.show()"
   ]
  },
  {
   "cell_type": "code",
   "execution_count": null,
   "metadata": {},
   "outputs": [],
   "source": [
    "df3 = (df2[df2['status'] == 'High'])"
   ]
  },
  {
   "cell_type": "code",
   "execution_count": null,
   "metadata": {},
   "outputs": [],
   "source": [
    "df3"
   ]
  },
  {
   "cell_type": "code",
   "execution_count": null,
   "metadata": {},
   "outputs": [],
   "source": [
    "df4 = df2[df2['status']=='Low']\n",
    "df4.head()"
   ]
  },
  {
   "cell_type": "code",
   "execution_count": null,
   "metadata": {},
   "outputs": [],
   "source": [
    "x1 = df3['DownLink[kbyte/min]']\n",
    "y1 = df3['UpLink[kbyte/min]']\n",
    "x2 = df4['DownLink[kbyte/min]']\n",
    "y2 = df4['UpLink[kbyte/min]']\n",
    "\n",
    "plt.figure(figsize= (30,10))\n",
    "plt.title('Data Analysis')\n",
    "plt.legend()\n",
    "plt.xlabel(\"uplink\")\n",
    "plt.ylabel(\"downlink\")\n",
    "plt.scatter(x1,y1,color='r', label = 'high')\n",
    "plt.scatter(x2,y2,color='blue',  label= 'low')\n",
    "\n",
    "plt.show()"
   ]
  },
  {
   "cell_type": "code",
   "execution_count": null,
   "metadata": {},
   "outputs": [],
   "source": [
    "import pandas as pd\n",
    "import matplotlib.pyplot as plt\n",
    "import numpy as np\n",
    "\n",
    "df = pd.read_csv('./data/test2.csv')\n",
    "\n",
    "df2 = pd.DataFrame({'DownLink[kbyte/min]': df['DownLink']*0.06, 'UpLink[kbyte/min]': df['UpLink']*0.06}) # (byte/sec)*0.06 = (kbyte/min)\n",
    "df2 = df2.astype(int)\n",
    "dflist = (df2['DownLink[kbyte/min]'] >= 15000)\n",
    "\n",
    "data_HL =[]\n",
    "for i in dflist:\n",
    "    if i:\n",
    "        data_HL.append('High')\n",
    "    else:\n",
    "        data_HL.append('Low')\n",
    "\n",
    "df2['status'] = data_HL\n",
    "\n",
    "# p1 = df3.plot(kind='scatter',y = 'DownLink[kbyte/min]',x='UpLink[kbyte/min]',color = 'r')\n",
    "# p2 = df4.plot(kind='scatter',y = 'DownLink[kbyte/min]',x='UpLink[kbyte/min]',color = 'b')\n",
    "\n",
    "\n",
    "plt.scatter(df2['UpLink[kbyte/min]'],df2['DownLink[kbyte/min]'])\n",
    "\n",
    "plt.show()\n",
    "# plt.scatter(x1,color='r', label = 'high')\n",
    "#plt.scatter(x2,y2,color='blue',  label= 'low')"
   ]
  },
  {
   "cell_type": "code",
   "execution_count": null,
   "metadata": {},
   "outputs": [],
   "source": [
    "print(x1)"
   ]
  },
  {
   "cell_type": "code",
   "execution_count": null,
   "metadata": {},
   "outputs": [],
   "source": [
    "x1"
   ]
  },
  {
   "cell_type": "code",
   "execution_count": null,
   "metadata": {},
   "outputs": [],
   "source": []
  }
 ],
 "metadata": {
  "kernelspec": {
   "display_name": "Python 3.9.12 ('base')",
   "language": "python",
   "name": "python3"
  },
  "language_info": {
   "codemirror_mode": {
    "name": "ipython",
    "version": 3
   },
   "file_extension": ".py",
   "mimetype": "text/x-python",
   "name": "python",
   "nbconvert_exporter": "python",
   "pygments_lexer": "ipython3",
   "version": "3.9.13"
  },
  "orig_nbformat": 4,
  "vscode": {
   "interpreter": {
    "hash": "336a7167fa095a0568fd0f482e8c39d2425961124f25fc4caa4d3cae90c24243"
   }
  }
 },
 "nbformat": 4,
 "nbformat_minor": 2
}
