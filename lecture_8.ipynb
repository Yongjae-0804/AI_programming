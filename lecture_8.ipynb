{
 "cells": [
  {
   "cell_type": "markdown",
   "metadata": {},
   "source": [
    "### 딕셔너리\n",
    "#### key를 통해 value를 얻는다."
   ]
  },
  {
   "cell_type": "code",
   "execution_count": 1,
   "metadata": {},
   "outputs": [
    {
     "data": {
      "text/plain": [
       "1"
      ]
     },
     "execution_count": 1,
     "metadata": {},
     "output_type": "execute_result"
    }
   ],
   "source": [
    "dic = {'문':1, '유':2, '김':3}\n",
    "dic['문']"
   ]
  },
  {
   "cell_type": "code",
   "execution_count": 2,
   "metadata": {},
   "outputs": [
    {
     "data": {
      "text/plain": [
       "{'문': 1, '유': 2, '김': 3}"
      ]
     },
     "execution_count": 2,
     "metadata": {},
     "output_type": "execute_result"
    }
   ],
   "source": [
    "dic"
   ]
  },
  {
   "cell_type": "code",
   "execution_count": 3,
   "metadata": {},
   "outputs": [
    {
     "data": {
      "text/plain": [
       "{'유': 2, '김': 3}"
      ]
     },
     "execution_count": 3,
     "metadata": {},
     "output_type": "execute_result"
    }
   ],
   "source": [
    "del dic['문']# 요소삭제\n",
    "dic"
   ]
  },
  {
   "cell_type": "code",
   "execution_count": 4,
   "metadata": {},
   "outputs": [
    {
     "data": {
      "text/plain": [
       "{}"
      ]
     },
     "execution_count": 4,
     "metadata": {},
     "output_type": "execute_result"
    }
   ],
   "source": [
    "dic.clear() #모든 항목을 제거\n",
    "dic"
   ]
  },
  {
   "cell_type": "code",
   "execution_count": 8,
   "metadata": {},
   "outputs": [
    {
     "name": "stdout",
     "output_type": "stream",
     "text": [
      "{'name': 'Aaron Judge', 99: 6, 'Hits': 157, 'HR': [52, 27, 39, 59]}\n",
      "157\n"
     ]
    }
   ],
   "source": [
    "dic2 = {'name':'Aaron Judge', 99: 6, 'Hits': 166, 'HR': [52, 27, 39, 59], 'Hits': 157}\n",
    "#키값이 중복되면 하나를 제외한 나머지 것은 모두 무시\n",
    "print(dic2)\n",
    "\n",
    "print(dic2['Hits'])"
   ]
  },
  {
   "cell_type": "code",
   "execution_count": 6,
   "metadata": {},
   "outputs": [
    {
     "name": "stdout",
     "output_type": "stream",
     "text": [
      "<class 'dict_keys'>\n",
      "dict_keys(['name', 99, 'Hits', 'HR'])\n"
     ]
    }
   ],
   "source": [
    "dic1 = {'name':'Aaron Judge', 99: 6, 'Hits': 166, 'HR': [52, 27, 39, 59]}\n",
    "print(type(dic1.keys())) #키를 반환\n",
    "print(dic1.keys())\n"
   ]
  },
  {
   "cell_type": "code",
   "execution_count": 7,
   "metadata": {},
   "outputs": [
    {
     "name": "stdout",
     "output_type": "stream",
     "text": [
      "<class 'dict_keys'>\n",
      "['name', 99, 'Hits', 'HR']\n"
     ]
    }
   ],
   "source": [
    "dic1 = {'name':'Aaron Judge', 99: 6, 'Hits': 166, 'HR': [52, 27, 39, 59]}\n",
    "print(type(dic1.keys()))\n",
    "print(list(dic1.keys())) #dict_keys 객체사용 보단 list로 캐스팅해서 사용하는 것이 편리하다.\n"
   ]
  },
  {
   "cell_type": "code",
   "execution_count": 8,
   "metadata": {},
   "outputs": [
    {
     "name": "stdout",
     "output_type": "stream",
     "text": [
      "<class 'dict_values'>\n",
      "dict_values(['Aaron Judge', 6, 166, [52, 27, 39, 59]])\n"
     ]
    }
   ],
   "source": [
    "dic1 = {'name':'Aaron Judge', 99: 6, 'Hits': 166, 'HR': [52, 27, 39, 59]}\n",
    "print(type(dic1.values()))\n",
    "print(dic1.values())\n"
   ]
  },
  {
   "cell_type": "code",
   "execution_count": 9,
   "metadata": {},
   "outputs": [
    {
     "name": "stdout",
     "output_type": "stream",
     "text": [
      "<class 'dict_values'>\n",
      "['Aaron Judge', 6, 166, [52, 27, 39, 59]]\n"
     ]
    }
   ],
   "source": [
    "dic1 = {'name':'Aaron Judge', 99: 6, 'Hits': 166, 'HR': [52, 27, 39, 59]}\n",
    "print(type(dic1.values()))\n",
    "print(list(dic1.values()))\n"
   ]
  },
  {
   "cell_type": "code",
   "execution_count": 10,
   "metadata": {},
   "outputs": [
    {
     "name": "stdout",
     "output_type": "stream",
     "text": [
      "<class 'dict_items'>\n",
      "dict_items([('name', 'Aaron Judge'), (99, 6), ('Hits', 166), ('HR', [52, 27, 39, 59])])\n",
      "[('name', 'Aaron Judge'), (99, 6), ('Hits', 166), ('HR', [52, 27, 39, 59])]\n"
     ]
    }
   ],
   "source": [
    "dic1 = {'name':'Aaron Judge', 99: 6, 'Hits': 166, 'HR': [52, 27, 39, 59]}\n",
    "print(type(dic1.items()))\n",
    "print(dic1.items())\n",
    "print(list(dic1.items()))"
   ]
  },
  {
   "cell_type": "code",
   "execution_count": 13,
   "metadata": {},
   "outputs": [
    {
     "name": "stdout",
     "output_type": "stream",
     "text": [
      "bokyung moon : 0.325\n",
      "sungjoo moon : 0.311\n",
      "eunsung choi : 0.311\n",
      "haemin park : 0.294\n",
      "changgi hong : 0.291\n",
      "hyunsoo kim : 0.276\n",
      "jihwan oh : 0.265\n"
     ]
    }
   ],
   "source": [
    "twins = {'bokyung moon': 0.325, 'sungjoo moon': 0.311, 'eunsung choi': 0.311, 'haemin park': 0.294, 'changgi hong': 0.291, 'hyunsoo kim': 0.276, 'jihwan oh': 0.265}\n",
    "for k in twins.keys():\n",
    "    print(k, ':', twins[k])\n"
   ]
  },
  {
   "cell_type": "code",
   "execution_count": 14,
   "metadata": {},
   "outputs": [
    {
     "name": "stdout",
     "output_type": "stream",
     "text": [
      "<class 'list'>\n",
      "['bokyung moon', 'changgi hong', 'eunsung choi', 'haemin park', 'hyunsoo kim', 'jihwan oh', 'sungjoo moon']\n"
     ]
    }
   ],
   "source": [
    "abc = sorted(twins) # 키를 정렬하여 리스트로 반환\n",
    "print(type(abc))\n",
    "print(abc) #이것을 활용하여 인덱싱\n"
   ]
  },
  {
   "cell_type": "code",
   "execution_count": 15,
   "metadata": {},
   "outputs": [
    {
     "name": "stdout",
     "output_type": "stream",
     "text": [
      "bokyung moon : 0.325\n",
      "changgi hong : 0.291\n",
      "eunsung choi : 0.311\n",
      "haemin park : 0.294\n",
      "hyunsoo kim : 0.276\n",
      "jihwan oh : 0.265\n",
      "sungjoo moon : 0.311\n"
     ]
    }
   ],
   "source": [
    "for i in abc:\n",
    "    print(i, ':', twins[i]) #소팅돼서 출력"
   ]
  },
  {
   "cell_type": "code",
   "execution_count": 16,
   "metadata": {},
   "outputs": [
    {
     "name": "stdout",
     "output_type": "stream",
     "text": [
      "0.291\n",
      "None\n"
     ]
    }
   ],
   "source": [
    "print(twins.get('changgi hong')) #키값으로 벨류를 얻음\n",
    "print(twins.get('yonghoon choi')) #없는 것은 none로\n"
   ]
  },
  {
   "cell_type": "markdown",
   "metadata": {},
   "source": [
    "pop(key) 출력후 삭제"
   ]
  },
  {
   "cell_type": "markdown",
   "metadata": {},
   "source": [
    "### set (서순이 없는 자료형)"
   ]
  },
  {
   "cell_type": "code",
   "execution_count": 18,
   "metadata": {},
   "outputs": [
    {
     "name": "stdout",
     "output_type": "stream",
     "text": [
      "{1, 2, 3, 4}\n"
     ]
    }
   ],
   "source": [
    "a = {} #집합이 아니라 빈 딕셔너리 생성한다.\n",
    "b = {3,2,1,4} #집합\n",
    "c = {'cool','koyote','finkl'} #집합\n",
    "print(b) #내가 입력한 순서로 관리 안함"
   ]
  },
  {
   "cell_type": "code",
   "execution_count": 19,
   "metadata": {},
   "outputs": [
    {
     "data": {
      "text/plain": [
       "{1, 2, 3, 4, 5, 6}"
      ]
     },
     "execution_count": 19,
     "metadata": {},
     "output_type": "execute_result"
    }
   ],
   "source": [
    "d = {1,1,2,2,3,3,3,4,5,6,6,6}\n",
    "d # 중복을 허용하지 않는다."
   ]
  },
  {
   "cell_type": "code",
   "execution_count": 21,
   "metadata": {},
   "outputs": [
    {
     "name": "stdout",
     "output_type": "stream",
     "text": [
      "set()\n"
     ]
    },
    {
     "data": {
      "text/plain": [
       "set"
      ]
     },
     "execution_count": 21,
     "metadata": {},
     "output_type": "execute_result"
    }
   ],
   "source": [
    "a = set() # 공집합 만들기\n",
    "print(a)\n",
    "type(a)"
   ]
  },
  {
   "cell_type": "code",
   "execution_count": 22,
   "metadata": {},
   "outputs": [
    {
     "data": {
      "text/plain": [
       "{1, 2, 3, 4, 5}"
      ]
     },
     "execution_count": 22,
     "metadata": {},
     "output_type": "execute_result"
    }
   ],
   "source": [
    "set([3,4,2,5,3,1,1,4]) #리스트로 부터 집합 생성"
   ]
  },
  {
   "cell_type": "code",
   "execution_count": 23,
   "metadata": {},
   "outputs": [
    {
     "data": {
      "text/plain": [
       "{'e', 'h', 'l', 'o'}"
      ]
     },
     "execution_count": 23,
     "metadata": {},
     "output_type": "execute_result"
    }
   ],
   "source": [
    "set('hello') # 문자열로 부터 집합 생성"
   ]
  },
  {
   "cell_type": "code",
   "execution_count": 24,
   "metadata": {},
   "outputs": [
    {
     "name": "stdout",
     "output_type": "stream",
     "text": [
      "1 is in set a.\n"
     ]
    }
   ],
   "source": [
    "a = {2, 3, 4, 1}\n",
    "if 1 in a:\n",
    "    print('1 is in set a.')\n"
   ]
  },
  {
   "cell_type": "code",
   "execution_count": 14,
   "metadata": {},
   "outputs": [
    {
     "name": "stdout",
     "output_type": "stream",
     "text": [
      "c\n",
      "a\n",
      "f\n",
      "b\n",
      "d\n"
     ]
    }
   ],
   "source": [
    "aset = {'a', 'f', 'c', 'd', 'b'}\n",
    "for i in aset: #for 문 사용\n",
    "    print(i)\n"
   ]
  },
  {
   "cell_type": "code",
   "execution_count": 26,
   "metadata": {},
   "outputs": [
    {
     "name": "stdout",
     "output_type": "stream",
     "text": [
      "a\n",
      "b\n",
      "c\n",
      "d\n",
      "f\n"
     ]
    }
   ],
   "source": [
    "aset = {'a', 'f', 'c', 'd', 'b'}\n",
    "for i in sorted(aset): #소팅해서 출력 -> 소팅을 하게되면 리스트 자료형\n",
    "    print(i)\n"
   ]
  },
  {
   "cell_type": "markdown",
   "metadata": {},
   "source": [
    "인덱싱과 슬라이싱이 안된다."
   ]
  },
  {
   "cell_type": "code",
   "execution_count": 28,
   "metadata": {},
   "outputs": [
    {
     "data": {
      "text/plain": [
       "{1, 2, 3, 4}"
      ]
     },
     "execution_count": 28,
     "metadata": {},
     "output_type": "execute_result"
    }
   ],
   "source": [
    "a = {1,2,3}\n",
    "a.add(4)\n",
    "a"
   ]
  },
  {
   "cell_type": "code",
   "execution_count": 29,
   "metadata": {},
   "outputs": [
    {
     "data": {
      "text/plain": [
       "{1, 2, 4}"
      ]
     },
     "execution_count": 29,
     "metadata": {},
     "output_type": "execute_result"
    }
   ],
   "source": [
    "a.remove(3)\n",
    "a"
   ]
  },
  {
   "cell_type": "code",
   "execution_count": 30,
   "metadata": {},
   "outputs": [
    {
     "data": {
      "text/plain": [
       "True"
      ]
     },
     "execution_count": 30,
     "metadata": {},
     "output_type": "execute_result"
    }
   ],
   "source": [
    "A = {1,2,3}\n",
    "B = {2,3,1}\n",
    "A==B"
   ]
  },
  {
   "cell_type": "code",
   "execution_count": 31,
   "metadata": {},
   "outputs": [
    {
     "data": {
      "text/plain": [
       "True"
      ]
     },
     "execution_count": 31,
     "metadata": {},
     "output_type": "execute_result"
    }
   ],
   "source": [
    "A = {1,2,3,4,5}\n",
    "B = {2,3,1}\n",
    "B<=A # 진부분집합의 표시"
   ]
  },
  {
   "cell_type": "code",
   "execution_count": 32,
   "metadata": {},
   "outputs": [
    {
     "data": {
      "text/plain": [
       "True"
      ]
     },
     "execution_count": 32,
     "metadata": {},
     "output_type": "execute_result"
    }
   ],
   "source": [
    "B<A"
   ]
  },
  {
   "cell_type": "code",
   "execution_count": 33,
   "metadata": {},
   "outputs": [
    {
     "data": {
      "text/plain": [
       "False"
      ]
     },
     "execution_count": 33,
     "metadata": {},
     "output_type": "execute_result"
    }
   ],
   "source": [
    "B>=A"
   ]
  },
  {
   "cell_type": "markdown",
   "metadata": {},
   "source": [
    "len(), max(), min(), sorted(), sum() 사용가능"
   ]
  },
  {
   "cell_type": "code",
   "execution_count": 35,
   "metadata": {},
   "outputs": [
    {
     "data": {
      "text/plain": [
       "False"
      ]
     },
     "execution_count": 35,
     "metadata": {},
     "output_type": "execute_result"
    }
   ],
   "source": [
    "a = {1,2,3,4,0}\n",
    "all(a)#모두 참일 때 투루"
   ]
  },
  {
   "cell_type": "code",
   "execution_count": 36,
   "metadata": {},
   "outputs": [
    {
     "data": {
      "text/plain": [
       "True"
      ]
     },
     "execution_count": 36,
     "metadata": {},
     "output_type": "execute_result"
    }
   ],
   "source": [
    "any(a)# 하나라도 투루면 투루"
   ]
  },
  {
   "cell_type": "code",
   "execution_count": 37,
   "metadata": {},
   "outputs": [
    {
     "data": {
      "text/plain": [
       "{1, 2, 3, 4, 5}"
      ]
     },
     "execution_count": 37,
     "metadata": {},
     "output_type": "execute_result"
    }
   ],
   "source": [
    "A = {1,2,3,4,5}\n",
    "B = {2,3,1}\n",
    "\n",
    "A|B #합집합"
   ]
  },
  {
   "cell_type": "code",
   "execution_count": 38,
   "metadata": {},
   "outputs": [
    {
     "data": {
      "text/plain": [
       "{1, 2, 3}"
      ]
     },
     "execution_count": 38,
     "metadata": {},
     "output_type": "execute_result"
    }
   ],
   "source": [
    "A&B #교집합"
   ]
  },
  {
   "cell_type": "code",
   "execution_count": 40,
   "metadata": {},
   "outputs": [
    {
     "name": "stdout",
     "output_type": "stream",
     "text": [
      "{4, 5}\n"
     ]
    },
    {
     "data": {
      "text/plain": [
       "{4, 5}"
      ]
     },
     "execution_count": 40,
     "metadata": {},
     "output_type": "execute_result"
    }
   ],
   "source": [
    "print(A.difference(B))\n",
    "A - B #차집합"
   ]
  },
  {
   "cell_type": "code",
   "execution_count": 41,
   "metadata": {},
   "outputs": [
    {
     "name": "stdout",
     "output_type": "stream",
     "text": [
      "{4, 5}\n",
      "{4, 5}\n"
     ]
    },
    {
     "data": {
      "text/plain": [
       "{4, 5}"
      ]
     },
     "execution_count": 41,
     "metadata": {},
     "output_type": "execute_result"
    }
   ],
   "source": [
    "print(A.symmetric_difference(B))\n",
    "print((A|B) - (A&B))\n",
    "A ^ B # 대칭 차집합 (합집합-교집합)\n"
   ]
  },
  {
   "cell_type": "markdown",
   "metadata": {},
   "source": [
    "### 파일 입출력"
   ]
  },
  {
   "cell_type": "code",
   "execution_count": 43,
   "metadata": {},
   "outputs": [],
   "source": [
    "f = open('new_file.txt','w') #쓰기용으로 열기\n",
    "f.write(\"only english\")\n",
    "f.close()"
   ]
  },
  {
   "cell_type": "code",
   "execution_count": 44,
   "metadata": {},
   "outputs": [],
   "source": [
    "f = open('new_file.txt', 'w')\n",
    "f.write('Cary Grant is an American actor.\\n')\n",
    "for i in range(1, 11):\n",
    "    f.write('{}\\n'.format(i))\n",
    "f.close()\n"
   ]
  },
  {
   "cell_type": "code",
   "execution_count": 45,
   "metadata": {},
   "outputs": [
    {
     "name": "stdout",
     "output_type": "stream",
     "text": [
      "Cary Grant is an American actor.\n",
      "1\n",
      "2\n",
      "3\n",
      "4\n",
      "5\n",
      "6\n",
      "7\n",
      "8\n",
      "9\n",
      "10\n",
      "\n"
     ]
    }
   ],
   "source": [
    "f = open('new_file.txt', 'r')\n",
    "data = f.read() #readline() 매서드는 라인별로 읽어들인다.\n",
    "print(data)\n",
    "f.close()\n"
   ]
  }
 ],
 "metadata": {
  "kernelspec": {
   "display_name": "Python 3.9.12 ('base')",
   "language": "python",
   "name": "python3"
  },
  "language_info": {
   "codemirror_mode": {
    "name": "ipython",
    "version": 3
   },
   "file_extension": ".py",
   "mimetype": "text/x-python",
   "name": "python",
   "nbconvert_exporter": "python",
   "pygments_lexer": "ipython3",
   "version": "3.9.12"
  },
  "orig_nbformat": 4,
  "vscode": {
   "interpreter": {
    "hash": "336a7167fa095a0568fd0f482e8c39d2425961124f25fc4caa4d3cae90c24243"
   }
  }
 },
 "nbformat": 4,
 "nbformat_minor": 2
}
