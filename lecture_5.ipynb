{
 "cells": [
  {
   "cell_type": "markdown",
   "metadata": {},
   "source": [
    "### 5장 반복문"
   ]
  },
  {
   "cell_type": "code",
   "execution_count": 1,
   "metadata": {},
   "outputs": [
    {
     "name": "stdout",
     "output_type": "stream",
     "text": [
      "저희 회사를 방문해 주셔서 감사합니다.\n",
      "저희 회사를 방문해 주셔서 감사합니다.\n",
      "저희 회사를 방문해 주셔서 감사합니다.\n",
      "저희 회사를 방문해 주셔서 감사합니다.\n",
      "저희 회사를 방문해 주셔서 감사합니다.\n"
     ]
    }
   ],
   "source": [
    "for i in range(5):\n",
    "    print('저희 회사를 방문해 주셔서 감사합니다.')"
   ]
  },
  {
   "cell_type": "markdown",
   "metadata": {},
   "source": [
    "#### 파이썬에는 두 가지 종류의 반복문이 있다.\n",
    "##### 1. for 문: 횟수제어 반복\n",
    "##### 2. while 문: 조건제어 반복"
   ]
  },
  {
   "cell_type": "code",
   "execution_count": 2,
   "metadata": {},
   "outputs": [
    {
     "name": "stdout",
     "output_type": "stream",
     "text": [
      "i= 1\n",
      "i= 2\n",
      "i= 3\n",
      "i= 4\n",
      "i= 5\n"
     ]
    }
   ],
   "source": [
    "for i in [1,2,3,4,5]:\n",
    "    print('i=',i)"
   ]
  },
  {
   "cell_type": "code",
   "execution_count": 3,
   "metadata": {},
   "outputs": [
    {
     "name": "stdout",
     "output_type": "stream",
     "text": [
      "lg twins\n",
      "doosan bears\n",
      "ssg landers\n"
     ]
    }
   ],
   "source": [
    "for i in ['lg twins', 'doosan bears', 'ssg landers']:\n",
    "    print(i)"
   ]
  },
  {
   "cell_type": "code",
   "execution_count": 4,
   "metadata": {},
   "outputs": [
    {
     "name": "stdout",
     "output_type": "stream",
     "text": [
      "3.14\n",
      "2.71\n",
      "6.77\n",
      "2.1\n",
      "4.7888\n"
     ]
    }
   ],
   "source": [
    "for i in [3.14, 2.71, 6.77, 2.1, 4.7888]:\n",
    "    print(i)"
   ]
  },
  {
   "cell_type": "code",
   "execution_count": 5,
   "metadata": {},
   "outputs": [
    {
     "name": "stdout",
     "output_type": "stream",
     "text": [
      "i= h\n",
      "i= e\n",
      "i= l\n",
      "i= l\n",
      "i= o\n"
     ]
    }
   ],
   "source": [
    "for i in \"hello\":\n",
    "    print('i=', i)"
   ]
  },
  {
   "cell_type": "code",
   "execution_count": 6,
   "metadata": {},
   "outputs": [
    {
     "name": "stdout",
     "output_type": "stream",
     "text": [
      "9 * 1 = 9\n",
      "9 * 2 = 18\n",
      "9 * 3 = 27\n",
      "9 * 4 = 36\n",
      "9 * 5 = 45\n"
     ]
    }
   ],
   "source": [
    "for i in [1,2,3,4,5]:\n",
    "    print('9 *', i, '=', 9*i)"
   ]
  },
  {
   "cell_type": "code",
   "execution_count": 7,
   "metadata": {},
   "outputs": [
    {
     "name": "stdout",
     "output_type": "stream",
     "text": [
      "hello\n",
      "hello\n",
      "hello\n",
      "hello\n",
      "hello\n"
     ]
    }
   ],
   "source": [
    "for i in range(5):\n",
    "    print('hello')"
   ]
  },
  {
   "cell_type": "code",
   "execution_count": 8,
   "metadata": {},
   "outputs": [
    {
     "name": "stdout",
     "output_type": "stream",
     "text": [
      "again 1994\n",
      "again 1994\n",
      "again 1994\n",
      "again 1994\n",
      "again 1994\n"
     ]
    }
   ],
   "source": [
    "for _ in [1,2,3,4,5]: #리스트의 원소를 사용할 일이 없는 경우 언더바 사용\n",
    "    print('again 1994')"
   ]
  },
  {
   "cell_type": "code",
   "execution_count": 9,
   "metadata": {},
   "outputs": [
    {
     "name": "stdout",
     "output_type": "stream",
     "text": [
      "lg twins!!!\n",
      "_: 0\n",
      "lg twins!!!\n",
      "_: 1\n",
      "lg twins!!!\n",
      "_: 2\n",
      "lg twins!!!\n",
      "_: 3\n",
      "lg twins!!!\n",
      "_: 4\n"
     ]
    }
   ],
   "source": [
    "for _ in range(5):\n",
    "    print('lg twins!!!')\n",
    "    print('_:',_)"
   ]
  },
  {
   "cell_type": "code",
   "execution_count": 10,
   "metadata": {},
   "outputs": [
    {
     "data": {
      "text/plain": [
       "[1, 2, 3, 4, 5]"
      ]
     },
     "execution_count": 10,
     "metadata": {},
     "output_type": "execute_result"
    }
   ],
   "source": [
    "list(range(1,6,1))"
   ]
  },
  {
   "cell_type": "code",
   "execution_count": 11,
   "metadata": {},
   "outputs": [
    {
     "data": {
      "text/plain": [
       "[1, 3, 5, 7, 9]"
      ]
     },
     "execution_count": 11,
     "metadata": {},
     "output_type": "execute_result"
    }
   ],
   "source": [
    "list(range(1,10,2))"
   ]
  },
  {
   "cell_type": "code",
   "execution_count": 13,
   "metadata": {},
   "outputs": [
    {
     "data": {
      "text/plain": [
       "[10, 9, 8, 7, 6, 5, 4, 3, 2, 1]"
      ]
     },
     "execution_count": 13,
     "metadata": {},
     "output_type": "execute_result"
    }
   ],
   "source": [
    "list(range(10,0,-1))"
   ]
  },
  {
   "cell_type": "code",
   "execution_count": 17,
   "metadata": {},
   "outputs": [],
   "source": [
    "import turtle as t\n",
    "\n",
    "for i in range(0,6):\n",
    "    t.circle(100)\n",
    "    t.right(60)\n",
    "t.done()"
   ]
  },
  {
   "cell_type": "code",
   "execution_count": 21,
   "metadata": {},
   "outputs": [],
   "source": [
    "import turtle as t\n",
    "\n",
    "s = t.textinput(\"Lab 5-3\", \"Enter N\")\n",
    "n = int(s)\n",
    "\n",
    "for i in range(n):\n",
    "    t.forward(100)\n",
    "    t.right(360/n)\n",
    "t.done()"
   ]
  },
  {
   "cell_type": "code",
   "execution_count": null,
   "metadata": {},
   "outputs": [],
   "source": [
    "import turtle as t\n",
    "import random as rand\n",
    "\n",
    "t.shape('turtle')\n",
    "\n",
    "for i in range(30):\n",
    "    length=rand.randrange(1,101)\n",
    "    t.forward(length)\n",
    "    angle = rand.randrange(-180,181)\n",
    "    t.right(angle)\n",
    "t.done()"
   ]
  },
  {
   "cell_type": "code",
   "execution_count": 2,
   "metadata": {},
   "outputs": [],
   "source": [
    "# 술취한 거북이 두 마리 -> 20픽셀 내에 위치 -> 충돌 알리고 멈춤"
   ]
  },
  {
   "cell_type": "code",
   "execution_count": 3,
   "metadata": {},
   "outputs": [
    {
     "name": "stdout",
     "output_type": "stream",
     "text": [
      "3628800\n"
     ]
    }
   ],
   "source": [
    "import math as m\n",
    "n=m.factorial(10)\n",
    "print(n)"
   ]
  },
  {
   "cell_type": "code",
   "execution_count": 7,
   "metadata": {},
   "outputs": [
    {
     "name": "stdout",
     "output_type": "stream",
     "text": [
      "5 픽토리알은  120\n"
     ]
    }
   ],
   "source": [
    "n = int(input(\"정수를 입력 하시오: \"))\n",
    "\n",
    "fact = 1\n",
    "for i in range(1, n+1):\n",
    "    fact = fact*i\n",
    "print(n, '픽토리알은 ', fact)"
   ]
  },
  {
   "cell_type": "markdown",
   "metadata": {},
   "source": [
    "#### 2. while 문"
   ]
  },
  {
   "cell_type": "code",
   "execution_count": 10,
   "metadata": {},
   "outputs": [
    {
     "name": "stdout",
     "output_type": "stream",
     "text": [
      "logged in\n"
     ]
    }
   ],
   "source": [
    "password = \"\"\n",
    "\n",
    "while password != \"box1577\":\n",
    "    password = input(\"enter pw: \")\n",
    "print(\"logged in\")"
   ]
  },
  {
   "cell_type": "code",
   "execution_count": 12,
   "metadata": {},
   "outputs": [
    {
     "name": "stdout",
     "output_type": "stream",
     "text": [
      "1+2+...10= 55\n"
     ]
    }
   ],
   "source": [
    "count = 1 # 1부터 10까지의 합을 계산\n",
    "sum = 0\n",
    "\n",
    "while count <= 10:\n",
    "    sum = sum + count\n",
    "    count = count +1\n",
    "print(\"1+2+...10=\",sum)"
   ]
  },
  {
   "cell_type": "code",
   "execution_count": 18,
   "metadata": {},
   "outputs": [],
   "source": [
    "import turtle as t\n",
    "\n",
    "length = 10\n",
    "t.speed(\"fastest\")\n",
    "while length <=200:\n",
    "    t.forward(length)\n",
    "    t.left(91)\n",
    "    length = length +1\n",
    "t.done()"
   ]
  },
  {
   "cell_type": "code",
   "execution_count": 19,
   "metadata": {},
   "outputs": [
    {
     "name": "stdout",
     "output_type": "stream",
     "text": [
      "11\n"
     ]
    }
   ],
   "source": [
    "from re import A\n",
    "\n",
    "\n",
    "sum = 0\n",
    "answer = \"y\"\n",
    "while answer == 'y':\n",
    "    a = int(input('정수입력: '))\n",
    "    sum = sum + a\n",
    "    answer = input('셈? (y/n')\n",
    "print(sum)"
   ]
  },
  {
   "cell_type": "code",
   "execution_count": 47,
   "metadata": {},
   "outputs": [
    {
     "name": "stdout",
     "output_type": "stream",
     "text": [
      "green light.\n"
     ]
    }
   ],
   "source": [
    "while True:\n",
    "    light = input('green or red' )\n",
    "    print(light,'light.')\n",
    "    if light == 'green':\n",
    "        break"
   ]
  },
  {
   "cell_type": "code",
   "execution_count": 40,
   "metadata": {},
   "outputs": [
    {
     "name": "stdout",
     "output_type": "stream",
     "text": [
      "1\n",
      "3\n",
      "5\n",
      "7\n",
      "9\n"
     ]
    }
   ],
   "source": [
    "a=0\n",
    "while a < 10:\n",
    "    a = a +1\n",
    "    if a%2 ==0:\n",
    "        continue #continue 와 break 너무 많이 쓰지 말기\n",
    "    else:\n",
    "        print(a)"
   ]
  },
  {
   "cell_type": "code",
   "execution_count": 48,
   "metadata": {},
   "outputs": [
    {
     "name": "stdout",
     "output_type": "stream",
     "text": [
      "I like python and java.\n"
     ]
    }
   ],
   "source": [
    "# 구 formatting %\n",
    "print(\"I like %s and %s.\" %(\"python\", \"java\"))"
   ]
  },
  {
   "cell_type": "code",
   "execution_count": 52,
   "metadata": {},
   "outputs": [
    {
     "name": "stdout",
     "output_type": "stream",
     "text": [
      "do you like python and java?\n",
      "do you like java and python?\n"
     ]
    }
   ],
   "source": [
    "# 신 formatting format()\n",
    "print('do you like {} and {}?'.format('python',\"java\"))\n",
    "print('do you like {1} and {0}?'.format('python',\"java\"))\n"
   ]
  },
  {
   "cell_type": "code",
   "execution_count": 57,
   "metadata": {},
   "outputs": [
    {
     "name": "stdout",
     "output_type": "stream",
     "text": [
      "pi is  3.14 or 3.1415926536, e is 2.72 or 2.718281828\n"
     ]
    }
   ],
   "source": [
    "import math\n",
    "print('pi is {0:5.2f} or {0:5.10f}, e is {1:1.2f} or {1:1.10}'.format(math.pi, math.e))"
   ]
  },
  {
   "cell_type": "code",
   "execution_count": 58,
   "metadata": {},
   "outputs": [
    {
     "name": "stdout",
     "output_type": "stream",
     "text": [
      "  2    4     8\n",
      "  4   16    64\n",
      "  6   36   216\n",
      "  8   64   512\n",
      " 10  100  1000\n"
     ]
    }
   ],
   "source": [
    "for i in range(2,11,2):\n",
    "    print('{0:3d} {1:4d} {2:5d}'.format(i, i*i, i*i*i))"
   ]
  }
 ],
 "metadata": {
  "kernelspec": {
   "display_name": "Python 3.9.12 ('base')",
   "language": "python",
   "name": "python3"
  },
  "language_info": {
   "codemirror_mode": {
    "name": "ipython",
    "version": 3
   },
   "file_extension": ".py",
   "mimetype": "text/x-python",
   "name": "python",
   "nbconvert_exporter": "python",
   "pygments_lexer": "ipython3",
   "version": "3.9.12"
  },
  "orig_nbformat": 4,
  "vscode": {
   "interpreter": {
    "hash": "336a7167fa095a0568fd0f482e8c39d2425961124f25fc4caa4d3cae90c24243"
   }
  }
 },
 "nbformat": 4,
 "nbformat_minor": 2
}
