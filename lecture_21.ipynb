{
 "cells": [
  {
   "cell_type": "markdown",
   "metadata": {},
   "source": [
    "### MNIST data set 불러오기"
   ]
  },
  {
   "cell_type": "code",
   "execution_count": 1,
   "metadata": {},
   "outputs": [
    {
     "name": "stdout",
     "output_type": "stream",
     "text": [
      "Downloading data from https://storage.googleapis.com/tensorflow/tf-keras-datasets/mnist.npz\n",
      "11490434/11490434 [==============================] - 1s 0us/step\n",
      "training set:  60000\n",
      "test set:  10000\n",
      "(60000, 28, 28)\n"
     ]
    },
    {
     "data": {
      "image/png": "[encoded data removed]",
      "text/plain": [
       "<Figure size 640x480 with 1 Axes>"
      ]
     },
     "metadata": {},
     "output_type": "display_data"
    }
   ],
   "source": [
    "import tensorflow.keras.datasets.mnist as mnist\n",
    "import matplotlib.pyplot as plt\n",
    "\n",
    "(X_train, y_train), (X_test, y_test) = mnist.load_data()\n",
    "print('training set: ', X_train.shape[0])\n",
    "print('test set: ', X_test.shape[0])\n",
    "print(X_train.shape)\n",
    "plt.imshow(X_train[0], cmap = 'gray')\n",
    "plt.show()"
   ]
  },
  {
   "cell_type": "markdown",
   "metadata": {},
   "source": [
    "### 이미지를 픽셀 값으로 바꾸기"
   ]
  },
  {
   "cell_type": "code",
   "execution_count": 11,
   "metadata": {},
   "outputs": [
    {
     "name": "stdout",
     "output_type": "stream",
     "text": [
      "0   0   0   0   0   0   0   0   0   0   0   0   0   0   0   0   0   0   0   0   0   0   0   0   0   0   0   0   \n",
      "0   0   0   0   0   0   0   0   0   0   0   0   0   0   0   0   0   0   0   0   0   0   0   0   0   0   0   0   \n",
      "0   0   0   0   0   0   0   0   0   0   0   0   0   0   0   0   0   0   0   0   0   0   0   0   0   0   0   0   \n",
      "0   0   0   0   0   0   0   0   0   0   0   0   0   0   0   0   0   0   0   0   0   0   0   0   0   0   0   0   \n",
      "0   0   0   0   0   0   0   0   0   0   0   0   0   0   0   0   0   0   0   0   0   0   0   0   0   0   0   0   \n",
      "0   0   0   0   0   0   0   0   0   0   0   0   3   18  18  18  126 136 175 26  166 255 247 127 0   0   0   0   \n",
      "0   0   0   0   0   0   0   0   30  36  94  154 170 253 253 253 253 253 225 172 253 242 195 64  0   0   0   0   \n",
      "0   0   0   0   0   0   0   49  238 253 253 253 253 253 253 253 253 251 93  82  82  56  39  0   0   0   0   0   \n",
      "0   0   0   0   0   0   0   18  219 253 253 253 253 253 198 182 247 241 0   0   0   0   0   0   0   0   0   0   \n",
      "0   0   0   0   0   0   0   0   80  156 107 253 253 205 11  0   43  154 0   0   0   0   0   0   0   0   0   0   \n",
      "0   0   0   0   0   0   0   0   0   14  1   154 253 90  0   0   0   0   0   0   0   0   0   0   0   0   0   0   \n",
      "0   0   0   0   0   0   0   0   0   0   0   139 253 190 2   0   0   0   0   0   0   0   0   0   0   0   0   0   \n",
      "0   0   0   0   0   0   0   0   0   0   0   11  190 253 70  0   0   0   0   0   0   0   0   0   0   0   0   0   \n",
      "0   0   0   0   0   0   0   0   0   0   0   0   35  241 225 160 108 1   0   0   0   0   0   0   0   0   0   0   \n",
      "0   0   0   0   0   0   0   0   0   0   0   0   0   81  240 253 253 119 25  0   0   0   0   0   0   0   0   0   \n",
      "0   0   0   0   0   0   0   0   0   0   0   0   0   0   45  186 253 253 150 27  0   0   0   0   0   0   0   0   \n",
      "0   0   0   0   0   0   0   0   0   0   0   0   0   0   0   16  93  252 253 187 0   0   0   0   0   0   0   0   \n",
      "0   0   0   0   0   0   0   0   0   0   0   0   0   0   0   0   0   249 253 249 64  0   0   0   0   0   0   0   \n",
      "0   0   0   0   0   0   0   0   0   0   0   0   0   0   46  130 183 253 253 207 2   0   0   0   0   0   0   0   \n",
      "0   0   0   0   0   0   0   0   0   0   0   0   39  148 229 253 253 253 250 182 0   0   0   0   0   0   0   0   \n",
      "0   0   0   0   0   0   0   0   0   0   24  114 221 253 253 253 253 201 78  0   0   0   0   0   0   0   0   0   \n",
      "0   0   0   0   0   0   0   0   23  66  213 253 253 253 253 198 81  2   0   0   0   0   0   0   0   0   0   0   \n",
      "0   0   0   0   0   0   18  171 219 253 253 253 253 195 80  9   0   0   0   0   0   0   0   0   0   0   0   0   \n",
      "0   0   0   0   55  172 226 253 253 253 253 244 133 11  0   0   0   0   0   0   0   0   0   0   0   0   0   0   \n",
      "0   0   0   0   136 253 253 253 212 135 132 16  0   0   0   0   0   0   0   0   0   0   0   0   0   0   0   0   \n",
      "0   0   0   0   0   0   0   0   0   0   0   0   0   0   0   0   0   0   0   0   0   0   0   0   0   0   0   0   \n",
      "0   0   0   0   0   0   0   0   0   0   0   0   0   0   0   0   0   0   0   0   0   0   0   0   0   0   0   0   \n",
      "0   0   0   0   0   0   0   0   0   0   0   0   0   0   0   0   0   0   0   0   0   0   0   0   0   0   0   0   \n"
     ]
    }
   ],
   "source": [
    "import tensorflow.keras.datasets.mnist as mnist\n",
    "import matplotlib.pyplot as plt\n",
    "import numpy as np\n",
    "import sys\n",
    "\n",
    "(X_train, y_train), (X_test, y_test) = mnist.load_data()\n",
    "#plt.imshow(X_train[0])\n",
    "#plt.show()\n",
    "\n",
    "for x in X_train[0]:\n",
    "    for i in x:\n",
    "        sys.stdout.write(\"%-4s\" % i)\n",
    "    sys.stdout.write('\\n')\n"
   ]
  },
  {
   "cell_type": "markdown",
   "metadata": {},
   "source": [
    "### 손글씨 인식을 위한 데이터 전처리 코드"
   ]
  },
  {
   "cell_type": "code",
   "execution_count": 12,
   "metadata": {},
   "outputs": [
    {
     "name": "stdout",
     "output_type": "stream",
     "text": [
      "training set:  60000\n",
      "test set:  10000\n",
      "(60000, 28, 28)\n"
     ]
    },
    {
     "data": {
      "image/png": "[encoded data removed]",
      "text/plain": [
       "<Figure size 640x480 with 1 Axes>"
      ]
     },
     "metadata": {},
     "output_type": "display_data"
    },
    {
     "name": "stdout",
     "output_type": "stream",
     "text": [
      "class:  5\n",
      "class:  [0. 0. 0. 0. 0. 1. 0. 0. 0. 0.]\n"
     ]
    }
   ],
   "source": [
    "from tensorflow.keras.datasets import mnist\n",
    "from tensorflow.keras.utils import to_categorical\n",
    "import matplotlib.pyplot as plt\n",
    "\n",
    "(X_train, y_train), (X_test, y_test) = mnist.load_data() #mnist 데이타 불러오고 트레인 셋과 테스트 셋으로 분리\n",
    "\n",
    "print('training set: ', X_train.shape[0])\n",
    "print('test set: ', X_test.shape[0])\n",
    "print(X_train.shape)\n",
    "\n",
    "plt.imshow(X_train[0], cmap = 'Greys')\n",
    "plt.show()\n",
    "\n",
    "#train set and test set을 1차원으로 바꿔준다.\n",
    "X_train = X_train.reshape(X_train.shape[0], 28 * 28)\n",
    "X_test = X_test.reshape(X_test.shape[0], 28 * 28)\n",
    "\n",
    "# Normalization btw [0, 1] 사이로 정규화 해준다.\n",
    "X_train = X_train.astype('float64')\n",
    "X_train = X_train / 255\n",
    "X_test = X_test.astype('float64')\n",
    "X_test = X_test / 255\n",
    "\n",
    "print('class: ', y_train[0])\n",
    "\n",
    "#레이블을 원핫 인코딩 해준다.\n",
    "y_train = to_categorical(y_train, 10)\n",
    "y_test = to_categorical(y_test, 10)\n",
    "print('class: ', y_train[0])"
   ]
  },
  {
   "cell_type": "markdown",
   "metadata": {},
   "source": [
    "### 딥러닝 모델 만들기"
   ]
  },
  {
   "cell_type": "markdown",
   "metadata": {},
   "source": [
    "#### 1.모델 작성"
   ]
  },
  {
   "cell_type": "code",
   "execution_count": 13,
   "metadata": {},
   "outputs": [
    {
     "name": "stdout",
     "output_type": "stream",
     "text": [
      "Model: \"sequential_2\"\n",
      "_________________________________________________________________\n",
      " Layer (type)                Output Shape              Param #   \n",
      "=================================================================\n",
      " dense_4 (Dense)             (None, 512)               401920    \n",
      "                                                                 \n",
      " dense_5 (Dense)             (None, 10)                5130      \n",
      "                                                                 \n",
      "=================================================================\n",
      "Total params: 407,050\n",
      "Trainable params: 407,050\n",
      "Non-trainable params: 0\n",
      "_________________________________________________________________\n"
     ]
    }
   ],
   "source": [
    "from tensorflow.keras.models import Sequential\n",
    "from tensorflow.keras.layers import Dense\n",
    "\n",
    "from tensorflow.keras.datasets import mnist\n",
    "from tensorflow.keras.utils import to_categorical\n",
    "\n",
    "#512개의 뉴런으로 만들기.\n",
    "model = Sequential()\n",
    "model.add(Dense(512, input_dim = 784, activation = 'relu'))\n",
    "model.add(Dense(10, activation = 'softmax'))\n",
    "#로스펑션은 카테고리칼 크로스엔트로피 사용\n",
    "model.compile(loss = 'categorical_crossentropy', optimizer = 'adam', metrics = ['accuracy'])\n",
    "model.summary()"
   ]
  },
  {
   "cell_type": "markdown",
   "metadata": {},
   "source": [
    "#### 2. Elarly stopping 적용"
   ]
  },
  {
   "cell_type": "code",
   "execution_count": 14,
   "metadata": {},
   "outputs": [
    {
     "name": "stdout",
     "output_type": "stream",
     "text": [
      "\n",
      "Epoch 1: val_loss improved from inf to 0.18937, saving model to ./data/model\\mnist_best_model.hdf5\n",
      "\n",
      "Epoch 2: val_loss improved from 0.18937 to 0.13868, saving model to ./data/model\\mnist_best_model.hdf5\n",
      "\n",
      "Epoch 3: val_loss improved from 0.13868 to 0.11126, saving model to ./data/model\\mnist_best_model.hdf5\n",
      "\n",
      "Epoch 4: val_loss improved from 0.11126 to 0.09814, saving model to ./data/model\\mnist_best_model.hdf5\n",
      "\n",
      "Epoch 5: val_loss improved from 0.09814 to 0.09282, saving model to ./data/model\\mnist_best_model.hdf5\n",
      "\n",
      "Epoch 6: val_loss improved from 0.09282 to 0.08611, saving model to ./data/model\\mnist_best_model.hdf5\n",
      "\n",
      "Epoch 7: val_loss improved from 0.08611 to 0.08545, saving model to ./data/model\\mnist_best_model.hdf5\n",
      "\n",
      "Epoch 8: val_loss did not improve from 0.08545\n",
      "\n",
      "Epoch 9: val_loss improved from 0.08545 to 0.08310, saving model to ./data/model\\mnist_best_model.hdf5\n",
      "\n",
      "Epoch 10: val_loss did not improve from 0.08310\n",
      "\n",
      "Epoch 11: val_loss improved from 0.08310 to 0.08089, saving model to ./data/model\\mnist_best_model.hdf5\n",
      "\n",
      "Epoch 12: val_loss did not improve from 0.08089\n",
      "\n",
      "Epoch 13: val_loss did not improve from 0.08089\n",
      "\n",
      "Epoch 14: val_loss did not improve from 0.08089\n",
      "\n",
      "Epoch 15: val_loss did not improve from 0.08089\n",
      "\n",
      "Epoch 16: val_loss did not improve from 0.08089\n",
      "\n",
      "Epoch 17: val_loss did not improve from 0.08089\n",
      "\n",
      "Epoch 18: val_loss did not improve from 0.08089\n",
      "\n",
      "Epoch 19: val_loss did not improve from 0.08089\n",
      "\n",
      "Epoch 20: val_loss did not improve from 0.08089\n",
      "\n",
      "Epoch 21: val_loss did not improve from 0.08089\n",
      "313/313 [==============================] - 0s 1ms/step - loss: 0.0756 - accuracy: 0.9800\n",
      "\n",
      " Test accuracy: 0.9800000190734863.\n"
     ]
    }
   ],
   "source": [
    "from tensorflow.keras.callbacks import ModelCheckpoint, EarlyStopping \n",
    "\n",
    "modelpath = './data/model/mnist_best_model.hdf5'\n",
    "checkpointer = ModelCheckpoint(filepath = modelpath, monitor = 'val_loss', verbose = 1, save_best_only = True)\n",
    "\n",
    "#10 번이상 성능이 향상되지 않으면 중단.\n",
    "early_stopping_callback = EarlyStopping(monitor = 'val_loss', patience = 10)\n",
    "history = model.fit(X_train, y_train, validation_split = 0.25, epochs = 30, batch_size = 200, verbose = 0, callbacks = [early_stopping_callback, checkpointer])\n",
    "\n",
    "print(\"\\n Test accuracy: {}.\".format(model.evaluate(X_test, y_test)[1]))"
   ]
  },
  {
   "cell_type": "markdown",
   "metadata": {},
   "source": [
    "#### 3. 실행결과를 그래프로 표현"
   ]
  },
  {
   "cell_type": "code",
   "execution_count": 15,
   "metadata": {},
   "outputs": [
    {
     "data": {
      "image/png": "[encoded data removed]",
      "text/plain": [
       "<Figure size 640x480 with 1 Axes>"
      ]
     },
     "metadata": {},
     "output_type": "display_data"
    }
   ],
   "source": [
    "# validation loss\n",
    "y_vloss = history.history['val_loss']\n",
    "\n",
    "# train loss\n",
    "y_loss = history.history['loss']\n",
    "\n",
    "x_len = np.arange(len(y_loss))\n",
    "plt.plot(x_len, y_vloss, marker = '.', c = 'red', label = 'validation loss')\n",
    "plt.plot(x_len, y_loss, marker = '.', c = 'blue', label = 'train loss')\n",
    "plt.legend()\n",
    "plt.xlabel('epoch')\n",
    "plt.ylabel('loss')\n",
    "plt.show()"
   ]
  },
  {
   "cell_type": "markdown",
   "metadata": {},
   "source": [
    "#### 4. 손글씨 분류 전체코드"
   ]
  },
  {
   "cell_type": "code",
   "execution_count": 16,
   "metadata": {},
   "outputs": [
    {
     "name": "stdout",
     "output_type": "stream",
     "text": [
      "class:  5\n",
      "class:  [0. 0. 0. 0. 0. 1. 0. 0. 0. 0.]\n",
      "\n",
      "Epoch 1: val_loss improved from inf to 0.18266, saving model to ./drive/MyDrive/Colab Notebooks/data/model/wine\\chapter16_best_model.hdf5\n",
      "\n",
      "Epoch 2: val_loss improved from 0.18266 to 0.13891, saving model to ./drive/MyDrive/Colab Notebooks/data/model/wine\\chapter16_best_model.hdf5\n",
      "\n",
      "Epoch 3: val_loss improved from 0.13891 to 0.10996, saving model to ./drive/MyDrive/Colab Notebooks/data/model/wine\\chapter16_best_model.hdf5\n",
      "\n",
      "Epoch 4: val_loss improved from 0.10996 to 0.10011, saving model to ./drive/MyDrive/Colab Notebooks/data/model/wine\\chapter16_best_model.hdf5\n",
      "\n",
      "Epoch 5: val_loss improved from 0.10011 to 0.08740, saving model to ./drive/MyDrive/Colab Notebooks/data/model/wine\\chapter16_best_model.hdf5\n",
      "\n",
      "Epoch 6: val_loss did not improve from 0.08740\n",
      "\n",
      "Epoch 7: val_loss did not improve from 0.08740\n",
      "\n",
      "Epoch 8: val_loss improved from 0.08740 to 0.08409, saving model to ./drive/MyDrive/Colab Notebooks/data/model/wine\\chapter16_best_model.hdf5\n",
      "\n",
      "Epoch 9: val_loss did not improve from 0.08409\n",
      "\n",
      "Epoch 10: val_loss improved from 0.08409 to 0.08335, saving model to ./drive/MyDrive/Colab Notebooks/data/model/wine\\chapter16_best_model.hdf5\n",
      "\n",
      "Epoch 11: val_loss improved from 0.08335 to 0.08138, saving model to ./drive/MyDrive/Colab Notebooks/data/model/wine\\chapter16_best_model.hdf5\n",
      "\n",
      "Epoch 12: val_loss improved from 0.08138 to 0.08118, saving model to ./drive/MyDrive/Colab Notebooks/data/model/wine\\chapter16_best_model.hdf5\n",
      "\n",
      "Epoch 13: val_loss did not improve from 0.08118\n",
      "\n",
      "Epoch 14: val_loss did not improve from 0.08118\n",
      "\n",
      "Epoch 15: val_loss did not improve from 0.08118\n",
      "\n",
      "Epoch 16: val_loss did not improve from 0.08118\n",
      "\n",
      "Epoch 17: val_loss did not improve from 0.08118\n",
      "\n",
      "Epoch 18: val_loss did not improve from 0.08118\n",
      "\n",
      "Epoch 19: val_loss did not improve from 0.08118\n",
      "\n",
      "Epoch 20: val_loss did not improve from 0.08118\n",
      "\n",
      "Epoch 21: val_loss did not improve from 0.08118\n",
      "\n",
      "Epoch 22: val_loss did not improve from 0.08118\n",
      "313/313 [==============================] - 0s 1ms/step - loss: 0.0709 - accuracy: 0.9805\n",
      "\n",
      " Test accuracy: 0.9804999828338623.\n"
     ]
    },
    {
     "data": {
      "image/png": "[encoded data removed]",
      "text/plain": [
       "<Figure size 640x480 with 1 Axes>"
      ]
     },
     "metadata": {},
     "output_type": "display_data"
    }
   ],
   "source": [
    "from tensorflow.keras.datasets import mnist\n",
    "from tensorflow.keras.utils import to_categorical\n",
    "from tensorflow.keras.models import Sequential\n",
    "from tensorflow.keras.layers import Dense\n",
    "from tensorflow.keras.callbacks import ModelCheckpoint, EarlyStopping\n",
    "import matplotlib.pyplot as plt\n",
    "import numpy as np\n",
    "import sys\n",
    "\n",
    "(X_train, y_train), (X_test, y_test) = mnist.load_data()\n",
    "\n",
    "X_train = X_train.reshape(X_train.shape[0], 784)\n",
    "X_test = X_test.reshape(X_test.shape[0], 784)\n",
    "\n",
    "# Normalization btw [0, 1]\n",
    "X_train = X_train.astype('float64')\n",
    "X_train = X_train / 255\n",
    "X_test = X_test.astype('float64')\n",
    "X_test = X_test / 255\n",
    "\n",
    "print('class: ', y_train[0])\n",
    "y_train = to_categorical(y_train, 10)\n",
    "y_test = to_categorical(y_test, 10)\n",
    "print('class: ', y_train[0])\n",
    "\n",
    "# Simple deep learning model\n",
    "model = Sequential()\n",
    "model.add(Dense(512, input_dim = 784, activation = 'relu'))\n",
    "model.add(Dense(10, activation = 'softmax'))\n",
    "\n",
    "model.compile(loss = 'categorical_crossentropy', optimizer = 'adam', metrics = ['accuracy'])\n",
    "\n",
    "modelpath = './drive/MyDrive/Colab Notebooks/data/model/wine/chapter16_best_model.hdf5'\n",
    "checkpointer = ModelCheckpoint(filepath = modelpath, monitor = 'val_loss', verbose = 1, save_best_only = True)\n",
    "early_stopping_callback = EarlyStopping(monitor = 'val_loss', patience = 10)\n",
    "\n",
    "history = model.fit(X_train, y_train, validation_split = 0.25, epochs = 30, batch_size = 200, verbose = 0, callbacks = [early_stopping_callback, checkpointer])\n",
    "print(\"\\n Test accuracy: {}.\".format(model.evaluate(X_test, y_test)[1]))\n",
    "\n",
    "y_vloss = history.history['val_loss'] # validation loss\n",
    "y_loss = history.history['loss'] # train loss\n",
    "\n",
    "x_len = np.arange(len(y_loss))\n",
    "plt.plot(x_len, y_vloss, marker = '.', c = 'red', label = 'validation loss')\n",
    "plt.plot(x_len, y_loss, marker = '.', c = 'blue', label = 'train loss')\n",
    "plt.legend()\n",
    "plt.xlabel('epoch')\n",
    "plt.ylabel('loss')\n",
    "plt.show()"
   ]
  },
  {
   "cell_type": "markdown",
   "metadata": {},
   "source": [
    "총평: 아주 단순한 모델이며 실제로 사용하기에는 부적합한 방법이다."
   ]
  },
  {
   "cell_type": "markdown",
   "metadata": {},
   "source": [
    "### 컨벌루션 레이어"
   ]
  },
  {
   "cell_type": "markdown",
   "metadata": {},
   "source": [
    "#입력 층  \n",
    "model.add(Conv2D(32, kernel_size = (3, 3), input_shape = (28, 28, 1), activation = 'relu'))  \n",
    "\n",
    "#히든레이어  \n",
    "model.add(Conv2D(64, (3, 3), activation = 'relu'))"
   ]
  },
  {
   "cell_type": "code",
   "execution_count": null,
   "metadata": {},
   "outputs": [],
   "source": [
    "#입력 층\n",
    "model.add(Conv2D(32, kernel_size = (3, 3), input_shape = (28, 28, 1), activation = 'relu'))\n",
    "#         Conv2D(커널의 개수, 커널 사이즈, 입력 크기, 활성화 함수)\n",
    "\n",
    "#히든레이어\n",
    "model.add(Conv2D(64, (3, 3), activation = 'relu'))"
   ]
  },
  {
   "cell_type": "markdown",
   "metadata": {},
   "source": [
    "Max Plooing Layer, Dropout(), Flatten()"
   ]
  },
  {
   "cell_type": "code",
   "execution_count": null,
   "metadata": {},
   "outputs": [],
   "source": [
    "# 케라스의 맥스 풀링 함수\n",
    "model.add(MaxPooling2D(pool_size = (2, 2)))\n",
    "\n",
    "# 학습도중 은닉층의 노드를 25%만큼 랜덤리 제거\n",
    "model.add(Dropout(0.25))\n",
    "\n",
    "# 1차원 벡타로 변경해준다\n",
    "model.add(Flatten())\n"
   ]
  },
  {
   "cell_type": "markdown",
   "metadata": {},
   "source": [
    "### 손글씨 인식 전체 코드 (CNN)"
   ]
  },
  {
   "cell_type": "code",
   "execution_count": 17,
   "metadata": {},
   "outputs": [
    {
     "name": "stdout",
     "output_type": "stream",
     "text": [
      "\n",
      "Epoch 1: val_loss improved from inf to 0.08096, saving model to ./data/model\\mnist_cnn_best_model.hdf5\n",
      "\n",
      "Epoch 2: val_loss improved from 0.08096 to 0.05926, saving model to ./data/model\\mnist_cnn_best_model.hdf5\n",
      "\n",
      "Epoch 3: val_loss improved from 0.05926 to 0.05325, saving model to ./data/model\\mnist_cnn_best_model.hdf5\n",
      "\n",
      "Epoch 4: val_loss improved from 0.05325 to 0.04636, saving model to ./data/model\\mnist_cnn_best_model.hdf5\n",
      "\n",
      "Epoch 5: val_loss improved from 0.04636 to 0.04542, saving model to ./data/model\\mnist_cnn_best_model.hdf5\n",
      "\n",
      "Epoch 6: val_loss improved from 0.04542 to 0.04329, saving model to ./data/model\\mnist_cnn_best_model.hdf5\n",
      "\n",
      "Epoch 7: val_loss improved from 0.04329 to 0.04208, saving model to ./data/model\\mnist_cnn_best_model.hdf5\n",
      "\n",
      "Epoch 8: val_loss improved from 0.04208 to 0.04106, saving model to ./data/model\\mnist_cnn_best_model.hdf5\n",
      "\n",
      "Epoch 9: val_loss improved from 0.04106 to 0.03981, saving model to ./data/model\\mnist_cnn_best_model.hdf5\n",
      "\n",
      "Epoch 10: val_loss did not improve from 0.03981\n",
      "\n",
      "Epoch 11: val_loss improved from 0.03981 to 0.03933, saving model to ./data/model\\mnist_cnn_best_model.hdf5\n",
      "\n",
      "Epoch 12: val_loss did not improve from 0.03933\n",
      "\n",
      "Epoch 13: val_loss did not improve from 0.03933\n",
      "\n",
      "Epoch 14: val_loss did not improve from 0.03933\n",
      "\n",
      "Epoch 15: val_loss did not improve from 0.03933\n",
      "\n",
      "Epoch 16: val_loss did not improve from 0.03933\n",
      "\n",
      "Epoch 17: val_loss did not improve from 0.03933\n",
      "\n",
      "Epoch 18: val_loss did not improve from 0.03933\n",
      "\n",
      "Epoch 19: val_loss did not improve from 0.03933\n",
      "\n",
      "Epoch 20: val_loss did not improve from 0.03933\n",
      "\n",
      "Epoch 21: val_loss did not improve from 0.03933\n",
      "313/313 [==============================] - 1s 2ms/step - loss: 0.0311 - accuracy: 0.9923\n",
      "\n",
      " Test accuracy: 0.9922999739646912.\n"
     ]
    },
    {
     "data": {
      "image/png": "[encoded data removed]",
      "text/plain": [
       "<Figure size 640x480 with 1 Axes>"
      ]
     },
     "metadata": {},
     "output_type": "display_data"
    }
   ],
   "source": [
    "from tensorflow.keras.datasets import mnist\n",
    "from tensorflow.keras.utils import to_categorical\n",
    "from tensorflow.keras.models import Sequential\n",
    "from tensorflow.keras.layers import Dense, Dropout, Flatten, Conv2D, MaxPooling2D\n",
    "from tensorflow.keras.callbacks import ModelCheckpoint, EarlyStopping\n",
    "\n",
    "import matplotlib.pyplot as plt\n",
    "import numpy as np\n",
    "import sys\n",
    "\n",
    "(X_train, y_train), (X_test, y_test) = mnist.load_data()\n",
    "\n",
    "X_train = X_train.reshape(X_train.shape[0], 28, 28, 1)\n",
    "X_test = X_test.reshape(X_test.shape[0], 28, 28, 1)\n",
    "\n",
    "# Normalization btw [0, 1]\n",
    "X_train = X_train.astype('float32')\n",
    "X_train = X_train / 255\n",
    "X_test = X_test.astype('float32')\n",
    "X_test = X_test / 255\n",
    "\n",
    "y_train = to_categorical(y_train, 10)\n",
    "y_test = to_categorical(y_test, 10)\n",
    "\n",
    "# Simple deep learning model\n",
    "model = Sequential()\n",
    "model.add(Conv2D(32, kernel_size = (3, 3), input_shape = (28, 28, 1), activation = 'relu'))\n",
    "model.add(Conv2D(64, (3, 3), activation = 'relu'))\n",
    "model.add(MaxPooling2D(pool_size = (2, 2)))\n",
    "model.add(Dropout(0.25))\n",
    "model.add(Flatten())\n",
    "model.add(Dense(128, activation = 'relu'))\n",
    "model.add(Dropout(0.5))\n",
    "model.add(Dense(10, activation = 'softmax'))\n",
    "\n",
    "model.compile(loss = 'categorical_crossentropy', optimizer = 'adam', metrics = ['accuracy'])\n",
    "\n",
    "modelpath = './data/model/mnist_cnn_best_model.hdf5'\n",
    "checkpointer = ModelCheckpoint(filepath = modelpath, monitor = 'val_loss', verbose = 1, save_best_only = True)\n",
    "early_stopping_callback = EarlyStopping(monitor = 'val_loss', patience = 10)\n",
    "\n",
    "history = model.fit(X_train, y_train, validation_split = 0.25, epochs = 30, batch_size = 200, verbose = 0, callbacks = [early_stopping_callback, checkpointer])\n",
    "print(\"\\n Test accuracy: {}.\".format(model.evaluate(X_test, y_test)[1]))\n",
    "\n",
    "y_vloss = history.history['val_loss'] # validation loss\n",
    "y_loss = history.history['loss'] # train loss\n",
    "\n",
    "x_len = np.arange(len(y_loss))\n",
    "plt.plot(x_len, y_vloss, marker = '.', c = 'red', label = 'validation loss')\n",
    "plt.plot(x_len, y_loss, marker = '.', c = 'blue', label = 'train loss')\n",
    "plt.legend()\n",
    "plt.grid()\n",
    "plt.xlabel('epoch')\n",
    "plt.ylabel('loss')\n",
    "plt.show()"
   ]
  }
 ],
 "metadata": {
  "kernelspec": {
   "display_name": "Python 3.9.15 ('base')",
   "language": "python",
   "name": "python3"
  },
  "language_info": {
   "codemirror_mode": {
    "name": "ipython",
    "version": 3
   },
   "file_extension": ".py",
   "mimetype": "text/x-python",
   "name": "python",
   "nbconvert_exporter": "python",
   "pygments_lexer": "ipython3",
   "version": "3.9.15"
  },
  "orig_nbformat": 4,
  "vscode": {
   "interpreter": {
    "hash": "336a7167fa095a0568fd0f482e8c39d2425961124f25fc4caa4d3cae90c24243"
   }
  }
 },
 "nbformat": 4,
 "nbformat_minor": 2
}
