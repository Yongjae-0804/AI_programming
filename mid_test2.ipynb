{
 "cells": [
  {
   "cell_type": "code",
   "execution_count": null,
   "metadata": {},
   "outputs": [],
   "source": [
    "import numpy as np\n",
    "import matplotlib.pyplot as plt\n",
    "import pandas as pd\n",
    "\n",
    "df = pd.read_csv('./data/test3.csv', encoding='utf-8')\n",
    "df.head()"
   ]
  },
  {
   "cell_type": "code",
   "execution_count": null,
   "metadata": {},
   "outputs": [],
   "source": [
    "list1 = df['title'].astype(str)\n",
    "list1_1 = []\n",
    "for i in list1:\n",
    "    list1_1.append(i.split())\n",
    "list1_1"
   ]
  },
  {
   "cell_type": "code",
   "execution_count": null,
   "metadata": {},
   "outputs": [],
   "source": [
    "df['title'].astype(str)\n"
   ]
  },
  {
   "cell_type": "code",
   "execution_count": null,
   "metadata": {},
   "outputs": [],
   "source": [
    "import numpy as np\n",
    "import matplotlib.pyplot as plt\n",
    "import pandas as pd\n",
    "\n",
    "df = pd.read_csv('./data/test3.csv', encoding='utf-8')\n",
    "\n",
    "list1 = df['title'].astype(str)\n",
    "list1_1 = []\n",
    "for i in list1:\n",
    "    list1_1.append(i.split())\n",
    "\n",
    "list2 = df['contents'].astype(str)\n",
    "list2_2 = []\n",
    "for i in list2:\n",
    "    list2_2.append(i.split())\n",
    "\n",
    "df2 = pd.DataFrame({'time': df['time'], 'title': list1_1, 'contents': list2_2})\n",
    "\n",
    "print(df2)"
   ]
  }
 ],
 "metadata": {
  "kernelspec": {
   "display_name": "Python 3.9.12 ('base')",
   "language": "python",
   "name": "python3"
  },
  "language_info": {
   "codemirror_mode": {
    "name": "ipython",
    "version": 3
   },
   "file_extension": ".py",
   "mimetype": "text/x-python",
   "name": "python",
   "nbconvert_exporter": "python",
   "pygments_lexer": "ipython3",
   "version": "3.9.13"
  },
  "orig_nbformat": 4,
  "vscode": {
   "interpreter": {
    "hash": "336a7167fa095a0568fd0f482e8c39d2425961124f25fc4caa4d3cae90c24243"
   }
  }
 },
 "nbformat": 4,
 "nbformat_minor": 2
}
