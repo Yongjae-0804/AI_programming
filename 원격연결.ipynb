{
  "cells": [
    {
      "cell_type": "code",
      "execution_count": null,
      "metadata": {
        "id": "wkRcgk_BFX8V"
      },
      "outputs": [],
      "source": [
        "# 코랩 안끊기게\n",
        "function ClickConnect(){\n",
        "console.log(\"Working\"); \n",
        "document.querySelector(\"colab-toolbar-button#connect\").click() \n",
        "}setInterval(ClickConnect, 60000)"
      ]
    },
    {
      "cell_type": "code",
      "execution_count": null,
      "metadata": {
        "id": "9Wp9nqpVFeS0"
      },
      "outputs": [],
      "source": [
        "#원격 연결\n",
        "from google.colab import drive\n",
        "\n",
        "drive.mount('/content/drive')\n",
        "!pip install colab_ssh --upgrade\n",
        "\n",
        "from colab_ssh import launch_ssh_cloudflared, init_git_cloudflared\n",
        "launch_ssh_cloudflared(password=\"1599\")\n",
        "\n",
        "# 경로\n",
        "#   \"./drive/MyDrive/Colab Notebooks/data/\""
      ]
    }
  ],
  "metadata": {
    "colab": {
      "provenance": []
    },
    "kernelspec": {
      "display_name": "Python 3.9.13 ('base')",
      "language": "python",
      "name": "python3"
    },
    "language_info": {
      "name": "python",
      "version": "3.9.13"
    },
    "vscode": {
      "interpreter": {
        "hash": "336a7167fa095a0568fd0f482e8c39d2425961124f25fc4caa4d3cae90c24243"
      }
    }
  },
  "nbformat": 4,
  "nbformat_minor": 0
}
